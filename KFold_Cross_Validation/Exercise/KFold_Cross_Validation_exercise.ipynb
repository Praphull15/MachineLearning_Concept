{
 "cells": [
  {
   "cell_type": "code",
   "execution_count": 34,
   "id": "eabb9473-9102-4b0e-97cd-85b8246e9c68",
   "metadata": {},
   "outputs": [],
   "source": [
    "from sklearn.datasets import load_iris\n",
    "from sklearn.model_selection import cross_val_score\n",
    "from sklearn.linear_model import LogisticRegression\n",
    "from sklearn.tree import DecisionTreeClassifier\n",
    "from sklearn.svm import SVC\n",
    "from sklearn.ensemble import RandomForestClassifier\n",
    "import numpy as np"
   ]
  },
  {
   "cell_type": "code",
   "execution_count": 35,
   "id": "6781669b-6253-4bd4-aa1a-bf2b7cecf91a",
   "metadata": {},
   "outputs": [],
   "source": [
    "iris =load_iris()"
   ]
  },
  {
   "cell_type": "code",
   "execution_count": 37,
   "id": "15a51292-e32a-486e-ba06-7d8112c9f41d",
   "metadata": {},
   "outputs": [
    {
     "data": {
      "text/plain": [
       "array([0.98, 0.96, 0.98])"
      ]
     },
     "execution_count": 37,
     "metadata": {},
     "output_type": "execute_result"
    }
   ],
   "source": [
    "#Logistic Regression\n",
    "\n",
    "l_scores = cross_val_score(LogisticRegression(max_iter=1000), iris.data, iris.target, cv=3)\n",
    "l_scores"
   ]
  },
  {
   "cell_type": "code",
   "execution_count": 38,
   "id": "f9f522d4-6d78-41a7-a28c-57671af275c1",
   "metadata": {},
   "outputs": [
    {
     "data": {
      "text/plain": [
       "0.9733333333333333"
      ]
     },
     "execution_count": 38,
     "metadata": {},
     "output_type": "execute_result"
    }
   ],
   "source": [
    "np.average(l_scores)"
   ]
  },
  {
   "cell_type": "code",
   "execution_count": 39,
   "id": "4b237c16-8e5d-4ec0-afb4-f5f0d8877601",
   "metadata": {},
   "outputs": [
    {
     "data": {
      "text/plain": [
       "array([0.98, 0.94, 0.98])"
      ]
     },
     "execution_count": 39,
     "metadata": {},
     "output_type": "execute_result"
    }
   ],
   "source": [
    "#Decision Tree\n",
    "\n",
    "D_scores = cross_val_score(DecisionTreeClassifier(), iris.data, iris.target, cv=3)\n",
    "D_scores"
   ]
  },
  {
   "cell_type": "code",
   "execution_count": 40,
   "id": "042bd351-06a1-488c-85ca-28a376fbc44c",
   "metadata": {},
   "outputs": [
    {
     "data": {
      "text/plain": [
       "0.9666666666666667"
      ]
     },
     "execution_count": 40,
     "metadata": {},
     "output_type": "execute_result"
    }
   ],
   "source": [
    "np.average(D_scores)"
   ]
  },
  {
   "cell_type": "code",
   "execution_count": 41,
   "id": "ad40c599-da1f-4929-a0b8-bb5f8bc6fab7",
   "metadata": {},
   "outputs": [
    {
     "data": {
      "text/plain": [
       "array([0.96, 0.98, 0.94])"
      ]
     },
     "execution_count": 41,
     "metadata": {},
     "output_type": "execute_result"
    }
   ],
   "source": [
    "#Support Vector Machine (SVM)\n",
    "\n",
    "s_scores = cross_val_score(SVC(), iris.data, iris.target, cv=3)\n",
    "s_scores"
   ]
  },
  {
   "cell_type": "code",
   "execution_count": 42,
   "id": "c7396426-9d1f-494c-bc26-e8fd67ac77d6",
   "metadata": {},
   "outputs": [
    {
     "data": {
      "text/plain": [
       "0.96"
      ]
     },
     "execution_count": 42,
     "metadata": {},
     "output_type": "execute_result"
    }
   ],
   "source": [
    "np.average(s_scores)"
   ]
  },
  {
   "cell_type": "code",
   "execution_count": 43,
   "id": "50ee39db-b566-4120-91b3-24b5f369ee57",
   "metadata": {},
   "outputs": [
    {
     "data": {
      "text/plain": [
       "array([0.98, 0.94, 0.96])"
      ]
     },
     "execution_count": 43,
     "metadata": {},
     "output_type": "execute_result"
    }
   ],
   "source": [
    "#Random Forest\n",
    "\n",
    "R_scores = cross_val_score(RandomForestClassifier(), iris.data, iris.target, cv=3)\n",
    "R_scores"
   ]
  },
  {
   "cell_type": "code",
   "execution_count": 44,
   "id": "1a6e942b-faf4-45ac-b0bb-21ab87efeca7",
   "metadata": {},
   "outputs": [
    {
     "data": {
      "text/plain": [
       "0.96"
      ]
     },
     "execution_count": 44,
     "metadata": {},
     "output_type": "execute_result"
    }
   ],
   "source": [
    "np.average(R_scores)"
   ]
  },
  {
   "cell_type": "code",
   "execution_count": null,
   "id": "bfc16580-0b49-4f4a-abea-8d39fe5dbb2e",
   "metadata": {},
   "outputs": [],
   "source": []
  }
 ],
 "metadata": {
  "kernelspec": {
   "display_name": "Python 3 (ipykernel)",
   "language": "python",
   "name": "python3"
  },
  "language_info": {
   "codemirror_mode": {
    "name": "ipython",
    "version": 3
   },
   "file_extension": ".py",
   "mimetype": "text/x-python",
   "name": "python",
   "nbconvert_exporter": "python",
   "pygments_lexer": "ipython3",
   "version": "3.12.7"
  }
 },
 "nbformat": 4,
 "nbformat_minor": 5
}
