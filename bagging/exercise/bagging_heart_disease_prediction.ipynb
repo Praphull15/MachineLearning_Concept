{
 "cells": [
  {
   "cell_type": "code",
   "execution_count": null,
   "id": "bf360935-f911-4295-bdc6-cf3586f5107f",
   "metadata": {},
   "outputs": [],
   "source": []
  }
 ],
 "metadata": {
  "kernelspec": {
   "display_name": "Python 3 (ipykernel)",
   "language": "python",
   "name": "python3"
  },
  "language_info": {
   "codemirror_mode": {
    "name": "ipython",
    "version": 3
   },
   "file_extension": ".py",
   "mimetype": "text/x-python",
   "name": "python",
   "nbconvert_exporter": "python",
   "pygments_lexer": "ipython3",
   "version": "3.12.7"
  }
 },
 "nbformat": 4,
 "nbformat_minor": 5
}
